{
 "cells": [
  {
   "cell_type": "code",
   "execution_count": 5,
   "metadata": {},
   "outputs": [
    {
     "name": "stdout",
     "output_type": "stream",
     "text": [
      "URL transformed to HTTPS due to an HSTS policy\n",
      "--2023-10-11 22:39:18--  https://www.lawrence.edu/fast/greggj/CMSC490/shakespeare.zip\n",
      "Resolving www.lawrence.edu (www.lawrence.edu)... 143.44.124.14\n",
      "Connecting to www.lawrence.edu (www.lawrence.edu)|143.44.124.14|:443... connected.\n",
      "HTTP request sent, awaiting response... 302 Found\n",
      "Location: https://www7.lawrence.edu/fast/greggj/CMSC490/shakespeare.zip [following]\n",
      "--2023-10-11 22:39:18--  https://www7.lawrence.edu/fast/greggj/CMSC490/shakespeare.zip\n",
      "Resolving www7.lawrence.edu (www7.lawrence.edu)... 143.44.124.14\n",
      "Connecting to www7.lawrence.edu (www7.lawrence.edu)|143.44.124.14|:443... connected.\n",
      "HTTP request sent, awaiting response... 301 Moved Permanently\n",
      "Location: https://www2.lawrence.edu/fast/greggj/CMSC490/shakespeare.zip [following]\n",
      "--2023-10-11 22:39:18--  https://www2.lawrence.edu/fast/greggj/CMSC490/shakespeare.zip\n",
      "Resolving www2.lawrence.edu (www2.lawrence.edu)... 143.44.124.14\n",
      "Connecting to www2.lawrence.edu (www2.lawrence.edu)|143.44.124.14|:443... connected.\n",
      "HTTP request sent, awaiting response... 301 Moved Permanently\n",
      "Location: http://www2.lawrence.edu/fast/GREGGJ/CMSC490/shakespeare.zip [following]\n",
      "--2023-10-11 22:39:18--  http://www2.lawrence.edu/fast/GREGGJ/CMSC490/shakespeare.zip\n",
      "Connecting to www2.lawrence.edu (www2.lawrence.edu)|143.44.124.14|:80... connected.\n",
      "HTTP request sent, awaiting response... 200 OK\n",
      "Length: 2139870 (2.0M) [application/zip]\n",
      "Saving to: ‘shakespeare.zip’\n",
      "\n",
      "shakespeare.zip     100%[===================>]   2.04M  10.3MB/s    in 0.2s    \n",
      "\n",
      "2023-10-11 22:39:18 (10.3 MB/s) - ‘shakespeare.zip’ saved [2139870/2139870]\n",
      "\n",
      "Archive:  shakespeare.zip\n",
      "  inflating: shakespeare.txt         \n",
      "  inflating: __MACOSX/._shakespeare.txt  \n"
     ]
    }
   ],
   "source": [
    "!wget http://www.lawrence.edu/fast/greggj/CMSC490/shakespeare.zip\n",
    "!unzip shakespeare.zip"
   ]
  },
  {
   "cell_type": "code",
   "execution_count": 8,
   "metadata": {},
   "outputs": [],
   "source": [
    "def getWord(file):\n",
    "    char = file.read(1)\n",
    "    if not char:\n",
    "        return ''\n",
    "    char = char.lower()\n",
    "\n",
    "    while char < 'a' or char > 'z':\n",
    "        char = file.read(1)        \n",
    "        if not char: \n",
    "            return ''\n",
    "        char = char.lower()\n",
    "\n",
    "    str = ''\n",
    "    while char >= 'a' and char <= 'z':\n",
    "        str = str + char\n",
    "        char = file.read(1)        \n",
    "        if not char: \n",
    "            return str\n",
    "        char = char.lower()\n",
    "    \n",
    "    if char == '’':\n",
    "        str = ''\n",
    "        char = file.read(1)\n",
    "        if not char: \n",
    "            return str\n",
    "        char = char.lower()\n",
    "        while char >= 'a' and char <= 'z':\n",
    "            char = file.read(1)        \n",
    "            if not char: \n",
    "                return str\n",
    "            char = char.lower()\n",
    "        return getWord(file)\n",
    "    return str"
   ]
  },
  {
   "cell_type": "code",
   "execution_count": 9,
   "metadata": {},
   "outputs": [],
   "source": [
    "import numpy as np\n",
    "\n",
    "def encode(ch):\n",
    "    result = np.zeros(27)\n",
    "    if ch == ' ':\n",
    "        position = 26\n",
    "    else:\n",
    "        position = ord(ch) - ord('a')\n",
    "    result[position] = 1\n",
    "    return result"
   ]
  },
  {
   "cell_type": "code",
   "execution_count": 17,
   "metadata": {},
   "outputs": [
    {
     "data": {
      "text/plain": [
       "array([0., 0., 0., 0., 0., 0., 0., 0., 0., 0., 0., 0., 0., 0., 0., 0., 0.,\n",
       "       0., 0., 0., 0., 0., 0., 0., 0., 0., 1.])"
      ]
     },
     "execution_count": 17,
     "metadata": {},
     "output_type": "execute_result"
    }
   ],
   "source": [
    "encode(' ')"
   ]
  },
  {
   "cell_type": "code",
   "execution_count": 26,
   "metadata": {},
   "outputs": [],
   "source": [
    "def makeSequence(str):\n",
    "    sequence = np.zeros((10,27))\n",
    "    for n in range(0,len(str)):\n",
    "        sequence[n] = encode(str[n])\n",
    "    for n in range(len(str), 10):\n",
    "        sequence[n] = encode(' ')\n",
    "    return sequence\n"
   ]
  },
  {
   "cell_type": "code",
   "execution_count": 28,
   "metadata": {},
   "outputs": [],
   "source": [
    "file = open('shakespeare.txt', 'r')\n",
    "\n",
    "inputs = np.zeros((100000, 10, 27))\n",
    "targets = np.zeros((100000, 27))\n",
    "counter = 0\n",
    "while(True):\n",
    "    word = getWord(file)\n",
    "    if len(word) > 4 and len(word) < 9:    \n",
    "        for n in range(3, len(word)):\n",
    "            inputs[counter] = makeSequence(word[:n])\n",
    "            targets[counter] = encode(word[n])\n",
    "            counter += 1 \n",
    "            if counter == 100000:\n",
    "                break\n",
    "    if counter == 100000:\n",
    "        break\n",
    "\n",
    "file.close()"
   ]
  },
  {
   "cell_type": "code",
   "execution_count": 36,
   "metadata": {},
   "outputs": [
    {
     "data": {
      "text/plain": [
       "array([0., 0., 0., 0., 1., 0., 0., 0., 0., 0., 0., 0., 0., 0., 0., 0., 0.,\n",
       "       0., 0., 0., 0., 0., 0., 0., 0., 0., 0.])"
      ]
     },
     "execution_count": 36,
     "metadata": {},
     "output_type": "execute_result"
    }
   ],
   "source": [
    "targets[-1]"
   ]
  },
  {
   "cell_type": "code",
   "execution_count": 44,
   "metadata": {},
   "outputs": [],
   "source": [
    "train_data = inputs[:64000]\n",
    "train_targets = targets[:64000]\n",
    "validation_data = inputs[64000:80000]\n",
    "validation_targets = targets[64000:80000]\n",
    "test_data = inputs[80000:]\n",
    "test_targets = targets[80000:]\n"
   ]
  },
  {
   "cell_type": "code",
   "execution_count": 30,
   "metadata": {},
   "outputs": [
    {
     "data": {
      "text/plain": [
       "array([0., 0., 0., 0., 0., 0., 0., 0., 0., 0., 0., 0., 0., 1., 0., 0., 0.,\n",
       "       0., 0., 0., 0., 0., 0., 0., 0., 0., 0.])"
      ]
     },
     "execution_count": 30,
     "metadata": {},
     "output_type": "execute_result"
    }
   ],
   "source": [
    "train_targets[0]"
   ]
  },
  {
   "cell_type": "code",
   "execution_count": 45,
   "metadata": {},
   "outputs": [
    {
     "name": "stdout",
     "output_type": "stream",
     "text": [
      "Model: \"sequential_3\"\n",
      "_________________________________________________________________\n",
      " Layer (type)                Output Shape              Param #   \n",
      "=================================================================\n",
      " lstm_4 (LSTM)               (None, 26)                5616      \n",
      "                                                                 \n",
      " dense_4 (Dense)             (None, 27)                729       \n",
      "                                                                 \n",
      "=================================================================\n",
      "Total params: 6345 (24.79 KB)\n",
      "Trainable params: 6345 (24.79 KB)\n",
      "Non-trainable params: 0 (0.00 Byte)\n",
      "_________________________________________________________________\n"
     ]
    }
   ],
   "source": [
    "from tensorflow.keras import layers\n",
    "from tensorflow.keras import Sequential\n",
    "\n",
    "model = Sequential([layers.LSTM(26,input_shape=(10,27),return_sequences=False),layers.Dense(27, activation=\"softmax\")])\n",
    "#x =layers.LSTM(16,input_shape=(10,27),return_sequences=False)\n",
    "#outputs = layers.Dense(27, activation=\"softmax\")(x)\n",
    "#model = keras.Model(x, outputs)\n",
    "model.compile(optimizer=\"rmsprop\",\n",
    "            loss=\"categorical_crossentropy\",\n",
    "            metrics=[\"accuracy\"])\n",
    "model.summary()"
   ]
  },
  {
   "cell_type": "code",
   "execution_count": 33,
   "metadata": {},
   "outputs": [
    {
     "data": {
      "text/plain": [
       "array([[0., 0., 0., 0., 0., 0., 0., 0., 0., 0., 0., 0., 0., 0., 0., 0.,\n",
       "        0., 0., 1., 0., 0., 0., 0., 0., 0., 0., 0.],\n",
       "       [0., 0., 0., 0., 0., 0., 0., 0., 0., 0., 0., 0., 0., 0., 0., 0.,\n",
       "        0., 0., 0., 1., 0., 0., 0., 0., 0., 0., 0.],\n",
       "       [0., 0., 0., 0., 0., 0., 0., 0., 0., 0., 0., 0., 0., 0., 0., 0.,\n",
       "        0., 1., 0., 0., 0., 0., 0., 0., 0., 0., 0.],\n",
       "       [0., 0., 0., 0., 0., 0., 0., 0., 0., 0., 0., 0., 0., 0., 0., 0.,\n",
       "        0., 0., 0., 0., 0., 0., 0., 0., 0., 0., 1.],\n",
       "       [0., 0., 0., 0., 0., 0., 0., 0., 0., 0., 0., 0., 0., 0., 0., 0.,\n",
       "        0., 0., 0., 0., 0., 0., 0., 0., 0., 0., 1.],\n",
       "       [0., 0., 0., 0., 0., 0., 0., 0., 0., 0., 0., 0., 0., 0., 0., 0.,\n",
       "        0., 0., 0., 0., 0., 0., 0., 0., 0., 0., 1.],\n",
       "       [0., 0., 0., 0., 0., 0., 0., 0., 0., 0., 0., 0., 0., 0., 0., 0.,\n",
       "        0., 0., 0., 0., 0., 0., 0., 0., 0., 0., 1.],\n",
       "       [0., 0., 0., 0., 0., 0., 0., 0., 0., 0., 0., 0., 0., 0., 0., 0.,\n",
       "        0., 0., 0., 0., 0., 0., 0., 0., 0., 0., 1.],\n",
       "       [0., 0., 0., 0., 0., 0., 0., 0., 0., 0., 0., 0., 0., 0., 0., 0.,\n",
       "        0., 0., 0., 0., 0., 0., 0., 0., 0., 0., 1.],\n",
       "       [0., 0., 0., 0., 0., 0., 0., 0., 0., 0., 0., 0., 0., 0., 0., 0.,\n",
       "        0., 0., 0., 0., 0., 0., 0., 0., 0., 0., 1.]])"
      ]
     },
     "execution_count": 33,
     "metadata": {},
     "output_type": "execute_result"
    }
   ],
   "source": [
    "validation_data[0]"
   ]
  },
  {
   "cell_type": "code",
   "execution_count": 46,
   "metadata": {},
   "outputs": [
    {
     "name": "stdout",
     "output_type": "stream",
     "text": [
      "Epoch 1/10\n",
      "1998/2000 [============================>.] - ETA: 0s - loss: 2.6199 - accuracy: 0.2159INFO:tensorflow:Assets written to: embeddings_bidir_gru.mdl/assets\n"
     ]
    },
    {
     "name": "stderr",
     "output_type": "stream",
     "text": [
      "INFO:tensorflow:Assets written to: embeddings_bidir_gru.mdl/assets\n"
     ]
    },
    {
     "name": "stdout",
     "output_type": "stream",
     "text": [
      "2000/2000 [==============================] - 16s 8ms/step - loss: 2.6195 - accuracy: 0.2160 - val_loss: 2.3753 - val_accuracy: 0.2753\n",
      "Epoch 2/10\n",
      "1995/2000 [============================>.] - ETA: 0s - loss: 2.2250 - accuracy: 0.3359INFO:tensorflow:Assets written to: embeddings_bidir_gru.mdl/assets\n"
     ]
    },
    {
     "name": "stderr",
     "output_type": "stream",
     "text": [
      "INFO:tensorflow:Assets written to: embeddings_bidir_gru.mdl/assets\n"
     ]
    },
    {
     "name": "stdout",
     "output_type": "stream",
     "text": [
      "2000/2000 [==============================] - 14s 7ms/step - loss: 2.2246 - accuracy: 0.3360 - val_loss: 2.1998 - val_accuracy: 0.3630\n",
      "Epoch 3/10\n",
      "1999/2000 [============================>.] - ETA: 0s - loss: 2.0100 - accuracy: 0.4136INFO:tensorflow:Assets written to: embeddings_bidir_gru.mdl/assets\n"
     ]
    },
    {
     "name": "stderr",
     "output_type": "stream",
     "text": [
      "INFO:tensorflow:Assets written to: embeddings_bidir_gru.mdl/assets\n"
     ]
    },
    {
     "name": "stdout",
     "output_type": "stream",
     "text": [
      "2000/2000 [==============================] - 15s 7ms/step - loss: 2.0100 - accuracy: 0.4136 - val_loss: 2.1003 - val_accuracy: 0.3882\n",
      "Epoch 4/10\n",
      "1997/2000 [============================>.] - ETA: 0s - loss: 1.8669 - accuracy: 0.4627INFO:tensorflow:Assets written to: embeddings_bidir_gru.mdl/assets\n"
     ]
    },
    {
     "name": "stderr",
     "output_type": "stream",
     "text": [
      "INFO:tensorflow:Assets written to: embeddings_bidir_gru.mdl/assets\n"
     ]
    },
    {
     "name": "stdout",
     "output_type": "stream",
     "text": [
      "2000/2000 [==============================] - 17s 9ms/step - loss: 1.8673 - accuracy: 0.4625 - val_loss: 2.0591 - val_accuracy: 0.3902\n",
      "Epoch 5/10\n",
      "2000/2000 [==============================] - ETA: 0s - loss: 1.7630 - accuracy: 0.4887INFO:tensorflow:Assets written to: embeddings_bidir_gru.mdl/assets\n"
     ]
    },
    {
     "name": "stderr",
     "output_type": "stream",
     "text": [
      "INFO:tensorflow:Assets written to: embeddings_bidir_gru.mdl/assets\n"
     ]
    },
    {
     "name": "stdout",
     "output_type": "stream",
     "text": [
      "2000/2000 [==============================] - 17s 8ms/step - loss: 1.7630 - accuracy: 0.4887 - val_loss: 1.9999 - val_accuracy: 0.4038\n",
      "Epoch 6/10\n",
      "1994/2000 [============================>.] - ETA: 0s - loss: 1.6850 - accuracy: 0.5138INFO:tensorflow:Assets written to: embeddings_bidir_gru.mdl/assets\n"
     ]
    },
    {
     "name": "stderr",
     "output_type": "stream",
     "text": [
      "INFO:tensorflow:Assets written to: embeddings_bidir_gru.mdl/assets\n"
     ]
    },
    {
     "name": "stdout",
     "output_type": "stream",
     "text": [
      "2000/2000 [==============================] - 13s 7ms/step - loss: 1.6848 - accuracy: 0.5139 - val_loss: 1.9685 - val_accuracy: 0.4046\n",
      "Epoch 7/10\n",
      "2000/2000 [==============================] - ETA: 0s - loss: 1.6218 - accuracy: 0.5336INFO:tensorflow:Assets written to: embeddings_bidir_gru.mdl/assets\n"
     ]
    },
    {
     "name": "stderr",
     "output_type": "stream",
     "text": [
      "INFO:tensorflow:Assets written to: embeddings_bidir_gru.mdl/assets\n"
     ]
    },
    {
     "name": "stdout",
     "output_type": "stream",
     "text": [
      "2000/2000 [==============================] - 15s 7ms/step - loss: 1.6218 - accuracy: 0.5336 - val_loss: 1.9299 - val_accuracy: 0.4316\n",
      "Epoch 8/10\n",
      "1996/2000 [============================>.] - ETA: 0s - loss: 1.5699 - accuracy: 0.5543INFO:tensorflow:Assets written to: embeddings_bidir_gru.mdl/assets\n"
     ]
    },
    {
     "name": "stderr",
     "output_type": "stream",
     "text": [
      "INFO:tensorflow:Assets written to: embeddings_bidir_gru.mdl/assets\n"
     ]
    },
    {
     "name": "stdout",
     "output_type": "stream",
     "text": [
      "2000/2000 [==============================] - 15s 7ms/step - loss: 1.5694 - accuracy: 0.5544 - val_loss: 1.9106 - val_accuracy: 0.4340\n",
      "Epoch 9/10\n",
      "2000/2000 [==============================] - 13s 6ms/step - loss: 1.5259 - accuracy: 0.5679 - val_loss: 1.9123 - val_accuracy: 0.4435\n",
      "Epoch 10/10\n",
      "1998/2000 [============================>.] - ETA: 0s - loss: 1.4904 - accuracy: 0.5803INFO:tensorflow:Assets written to: embeddings_bidir_gru.mdl/assets\n"
     ]
    },
    {
     "name": "stderr",
     "output_type": "stream",
     "text": [
      "INFO:tensorflow:Assets written to: embeddings_bidir_gru.mdl/assets\n"
     ]
    },
    {
     "name": "stdout",
     "output_type": "stream",
     "text": [
      "2000/2000 [==============================] - 16s 8ms/step - loss: 1.4901 - accuracy: 0.5803 - val_loss: 1.8582 - val_accuracy: 0.4589\n"
     ]
    },
    {
     "data": {
      "text/plain": [
       "<keras.callbacks.History at 0x7fdf3fe0b2e0>"
      ]
     },
     "execution_count": 46,
     "metadata": {},
     "output_type": "execute_result"
    }
   ],
   "source": [
    "from tensorflow import keras\n",
    "callbacks = [\n",
    "    keras.callbacks.ModelCheckpoint(\"embeddings_bidir_gru.mdl\",\n",
    "                                    save_best_only=True)\n",
    "]\n",
    "model.fit(train_data, train_targets, validation_data=[validation_data,validation_targets], epochs=10, callbacks=callbacks)\n"
   ]
  },
  {
   "cell_type": "code",
   "execution_count": 47,
   "metadata": {},
   "outputs": [
    {
     "name": "stdout",
     "output_type": "stream",
     "text": [
      "625/625 [==============================] - 1s 1ms/step - loss: 1.9744 - accuracy: 0.4389\n",
      "Test acc: 0.439\n"
     ]
    }
   ],
   "source": [
    "model = keras.models.load_model(\"embeddings_bidir_gru.mdl\")\n",
    "print(f\"Test acc: {model.evaluate(test_data,test_targets)[1]:.3f}\")"
   ]
  }
 ],
 "metadata": {
  "kernelspec": {
   "display_name": "env_tensorflow",
   "language": "python",
   "name": "python3"
  },
  "language_info": {
   "codemirror_mode": {
    "name": "ipython",
    "version": 3
   },
   "file_extension": ".py",
   "mimetype": "text/x-python",
   "name": "python",
   "nbconvert_exporter": "python",
   "pygments_lexer": "ipython3",
   "version": "3.10.12"
  },
  "orig_nbformat": 4
 },
 "nbformat": 4,
 "nbformat_minor": 2
}
